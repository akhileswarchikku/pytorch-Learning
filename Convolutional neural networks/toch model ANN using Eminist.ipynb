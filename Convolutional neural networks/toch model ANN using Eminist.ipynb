{
 "cells": [
  {
   "cell_type": "code",
   "execution_count": 1,
   "id": "01b43b06",
   "metadata": {},
   "outputs": [],
   "source": [
    "import torch\n",
    "import torch.nn as nn\n",
    "import torch.nn.functional as F"
   ]
  },
  {
   "cell_type": "code",
   "execution_count": 2,
   "id": "b8e62d5a",
   "metadata": {},
   "outputs": [],
   "source": [
    "from torch.utils.data import DataLoader\n",
    "from torchvision import datasets,transforms"
   ]
  },
  {
   "cell_type": "code",
   "execution_count": 7,
   "id": "a27c8097",
   "metadata": {},
   "outputs": [],
   "source": [
    "import numpy as np\n",
    "import pandas as pd\n",
    "from sklearn.metrics import confusion_matrix\n",
    "import matplotlib.pyplot as plt\n",
    "%matplotlib inline"
   ]
  },
  {
   "cell_type": "code",
   "execution_count": 8,
   "id": "138c1aad",
   "metadata": {},
   "outputs": [],
   "source": [
    "transform = transforms.ToTensor()"
   ]
  },
  {
   "cell_type": "code",
   "execution_count": 9,
   "id": "994610d4",
   "metadata": {},
   "outputs": [
    {
     "name": "stdout",
     "output_type": "stream",
     "text": [
      "Downloading http://yann.lecun.com/exdb/mnist/train-images-idx3-ubyte.gz\n",
      "Downloading http://yann.lecun.com/exdb/mnist/train-images-idx3-ubyte.gz to C:\\Users\\akhil\\Downloads\\data\\MNIST\\raw\\train-images-idx3-ubyte.gz\n"
     ]
    },
    {
     "name": "stderr",
     "output_type": "stream",
     "text": [
      "100.0%\n"
     ]
    },
    {
     "name": "stdout",
     "output_type": "stream",
     "text": [
      "Extracting C:\\Users\\akhil\\Downloads\\data\\MNIST\\raw\\train-images-idx3-ubyte.gz to C:\\Users\\akhil\\Downloads\\data\\MNIST\\raw\n"
     ]
    },
    {
     "name": "stderr",
     "output_type": "stream",
     "text": [
      "\r",
      "100.0%"
     ]
    },
    {
     "name": "stdout",
     "output_type": "stream",
     "text": [
      "\n",
      "Downloading http://yann.lecun.com/exdb/mnist/train-labels-idx1-ubyte.gz\n",
      "Downloading http://yann.lecun.com/exdb/mnist/train-labels-idx1-ubyte.gz to C:\\Users\\akhil\\Downloads\\data\\MNIST\\raw\\train-labels-idx1-ubyte.gz\n",
      "Extracting C:\\Users\\akhil\\Downloads\\data\\MNIST\\raw\\train-labels-idx1-ubyte.gz to C:\\Users\\akhil\\Downloads\\data\\MNIST\\raw\n",
      "\n",
      "Downloading http://yann.lecun.com/exdb/mnist/t10k-images-idx3-ubyte.gz\n"
     ]
    },
    {
     "name": "stderr",
     "output_type": "stream",
     "text": [
      "\n",
      "47.7%"
     ]
    },
    {
     "name": "stdout",
     "output_type": "stream",
     "text": [
      "Downloading http://yann.lecun.com/exdb/mnist/t10k-images-idx3-ubyte.gz to C:\\Users\\akhil\\Downloads\\data\\MNIST\\raw\\t10k-images-idx3-ubyte.gz\n"
     ]
    },
    {
     "name": "stderr",
     "output_type": "stream",
     "text": [
      "100.0%\n"
     ]
    },
    {
     "name": "stdout",
     "output_type": "stream",
     "text": [
      "Extracting C:\\Users\\akhil\\Downloads\\data\\MNIST\\raw\\t10k-images-idx3-ubyte.gz to C:\\Users\\akhil\\Downloads\\data\\MNIST\\raw\n",
      "\n",
      "Downloading http://yann.lecun.com/exdb/mnist/t10k-labels-idx1-ubyte.gz\n",
      "Downloading http://yann.lecun.com/exdb/mnist/t10k-labels-idx1-ubyte.gz to C:\\Users\\akhil\\Downloads\\data\\MNIST\\raw\\t10k-labels-idx1-ubyte.gz\n"
     ]
    },
    {
     "name": "stderr",
     "output_type": "stream",
     "text": [
      "\r",
      "100.0%"
     ]
    },
    {
     "name": "stdout",
     "output_type": "stream",
     "text": [
      "Extracting C:\\Users\\akhil\\Downloads\\data\\MNIST\\raw\\t10k-labels-idx1-ubyte.gz to C:\\Users\\akhil\\Downloads\\data\\MNIST\\raw\n",
      "\n"
     ]
    },
    {
     "name": "stderr",
     "output_type": "stream",
     "text": [
      "\n"
     ]
    }
   ],
   "source": [
    "train_data = datasets.MNIST(root=r\"C:\\Users\\akhil\\Downloads\\data\",train=True,download=True,transform=transform)"
   ]
  },
  {
   "cell_type": "code",
   "execution_count": 10,
   "id": "0bf5a88e",
   "metadata": {},
   "outputs": [],
   "source": [
    "test_data = datasets.MNIST(root=r\"C:\\Users\\akhil\\Downloads\\data\",train=False,download=True,transform=transform)"
   ]
  },
  {
   "cell_type": "code",
   "execution_count": 11,
   "id": "9eb8bf56",
   "metadata": {},
   "outputs": [],
   "source": [
    "image,label = train_data[0]"
   ]
  },
  {
   "cell_type": "code",
   "execution_count": 12,
   "id": "e6976f99",
   "metadata": {},
   "outputs": [
    {
     "data": {
      "text/plain": [
       "<matplotlib.image.AxesImage at 0x2459dcfbdf0>"
      ]
     },
     "execution_count": 12,
     "metadata": {},
     "output_type": "execute_result"
    },
    {
     "data": {
      "image/png": "[encoded data removed]",
      "text/plain": [
       "<Figure size 640x480 with 1 Axes>"
      ]
     },
     "metadata": {},
     "output_type": "display_data"
    }
   ],
   "source": [
    "plt.imshow(image.reshape((28,28)),cmap='gist_yarg')"
   ]
  },
  {
   "cell_type": "code",
   "execution_count": 13,
   "id": "19cf00f7",
   "metadata": {},
   "outputs": [],
   "source": [
    "torch.manual_seed(101)\n",
    "train_loader = DataLoader(train_data,batch_size=100,shuffle=True)\n",
    "test_loader = DataLoader(test_data,batch_size=500,shuffle=False)"
   ]
  },
  {
   "cell_type": "code",
   "execution_count": 14,
   "id": "c5c4e7a5",
   "metadata": {},
   "outputs": [],
   "source": [
    "from torchvision.utils import make_grid\n",
    "np.set_printoptions(formatter=dict(int=lambda x:f'{x:4}'))"
   ]
  },
  {
   "cell_type": "code",
   "execution_count": 15,
   "id": "6bc45e92",
   "metadata": {},
   "outputs": [],
   "source": [
    "for images,labels in train_loader:\n",
    "    break"
   ]
  },
  {
   "cell_type": "code",
   "execution_count": 16,
   "id": "b8520726",
   "metadata": {},
   "outputs": [
    {
     "data": {
      "text/plain": [
       "torch.Size([100, 1, 28, 28])"
      ]
     },
     "execution_count": 16,
     "metadata": {},
     "output_type": "execute_result"
    }
   ],
   "source": [
    "images.shape"
   ]
  },
  {
   "cell_type": "code",
   "execution_count": 17,
   "id": "6a607527",
   "metadata": {},
   "outputs": [
    {
     "data": {
      "text/plain": [
       "torch.Size([100])"
      ]
     },
     "execution_count": 17,
     "metadata": {},
     "output_type": "execute_result"
    }
   ],
   "source": [
    "labels.shape"
   ]
  },
  {
   "cell_type": "code",
   "execution_count": 18,
   "id": "db0db445",
   "metadata": {},
   "outputs": [
    {
     "data": {
      "text/plain": [
       "array([   7,    2,    3,    5,    8,    5,    3,    6,    9,    9,    1,\n",
       "          3], dtype=int64)"
      ]
     },
     "execution_count": 18,
     "metadata": {},
     "output_type": "execute_result"
    }
   ],
   "source": [
    "labels[:12].numpy()"
   ]
  },
  {
   "cell_type": "code",
   "execution_count": 19,
   "id": "6e2bfb19",
   "metadata": {},
   "outputs": [
    {
     "name": "stdout",
     "output_type": "stream",
     "text": [
      "Labels:  [   7    2    3    5    8    5    3    6    9    9    1    3]\n"
     ]
    },
    {
     "data": {
      "text/plain": [
       "<matplotlib.image.AxesImage at 0x2459e0d0a90>"
      ]
     },
     "execution_count": 19,
     "metadata": {},
     "output_type": "execute_result"
    },
    {
     "data": {
      "image/png": "[encoded data removed]",
      "text/plain": [
       "<Figure size 1000x400 with 1 Axes>"
      ]
     },
     "metadata": {},
     "output_type": "display_data"
    }
   ],
   "source": [
    "print('Labels: ',labels[:12].numpy())\n",
    "\n",
    "im = make_grid(images[:12],nrow=12)\n",
    "plt.figure(figsize=(10,4))\n",
    "plt.imshow(np.transpose(im.numpy(),(1,2,0)))"
   ]
  },
  {
   "cell_type": "code",
   "execution_count": 20,
   "id": "5fcb7317",
   "metadata": {},
   "outputs": [],
   "source": [
    "class MultilayerPerceptron(nn.Module):\n",
    "    \n",
    "    def __init__(self,in_sz=784,out_sz=10,layers=[120,84]):\n",
    "        super().__init__()\n",
    "        \n",
    "        self.fc1 = nn.Linear(in_sz,layers[0])\n",
    "        self.fc2 = nn.Linear(layers[0],layers[1])\n",
    "        self.fc3 = nn.Linear(layers[1],out_sz)\n",
    "        \n",
    "    def forward(self,X):\n",
    "        \n",
    "        X = F.relu(self.fc1(X))\n",
    "        X = F.relu(self.fc2(X))\n",
    "        X = self.fc3(X)\n",
    "\n",
    "        return F.log_softmax(X,dim=1)"
   ]
  },
  {
   "cell_type": "code",
   "execution_count": 21,
   "id": "2e20931b",
   "metadata": {},
   "outputs": [
    {
     "data": {
      "text/plain": [
       "MultilayerPerceptron(\n",
       "  (fc1): Linear(in_features=784, out_features=120, bias=True)\n",
       "  (fc2): Linear(in_features=120, out_features=84, bias=True)\n",
       "  (fc3): Linear(in_features=84, out_features=10, bias=True)\n",
       ")"
      ]
     },
     "execution_count": 21,
     "metadata": {},
     "output_type": "execute_result"
    }
   ],
   "source": [
    "torch.manual_seed(101)\n",
    "\n",
    "model = MultilayerPerceptron()\n",
    "model"
   ]
  },
  {
   "cell_type": "code",
   "execution_count": 22,
   "id": "809595d5",
   "metadata": {},
   "outputs": [
    {
     "name": "stdout",
     "output_type": "stream",
     "text": [
      "94080\n",
      "120\n",
      "10080\n",
      "84\n",
      "840\n",
      "10\n"
     ]
    }
   ],
   "source": [
    "for param in model.parameters():\n",
    "    print(param.numel())"
   ]
  },
  {
   "cell_type": "code",
   "execution_count": 23,
   "id": "a6016d91",
   "metadata": {},
   "outputs": [],
   "source": [
    "criterion = nn.CrossEntropyLoss()\n",
    "optimizer = torch.optim.Adam(model.parameters(),lr=0.001)"
   ]
  },
  {
   "cell_type": "code",
   "execution_count": 24,
   "id": "c335ae22",
   "metadata": {},
   "outputs": [
    {
     "data": {
      "text/plain": [
       "torch.Size([100, 1, 28, 28])"
      ]
     },
     "execution_count": 24,
     "metadata": {},
     "output_type": "execute_result"
    }
   ],
   "source": [
    "images.shape"
   ]
  },
  {
   "cell_type": "code",
   "execution_count": 25,
   "id": "79da75c0",
   "metadata": {},
   "outputs": [
    {
     "data": {
      "text/plain": [
       "torch.Size([100, 784])"
      ]
     },
     "execution_count": 25,
     "metadata": {},
     "output_type": "execute_result"
    }
   ],
   "source": [
    "images.view(100,-1).shape"
   ]
  },
  {
   "cell_type": "code",
   "execution_count": 26,
   "id": "8848debb",
   "metadata": {},
   "outputs": [
    {
     "name": "stdout",
     "output_type": "stream",
     "text": [
      "Epoch 0 batch 200 loss:0.2356238216161728 accuracy:83.245\n",
      "Epoch 0 batch 400 loss:0.3533070683479309 accuracy:87.5325\n",
      "Epoch 0 batch 600 loss:0.13734400272369385 accuracy:89.58166666666666\n",
      "Epoch 1 batch 200 loss:0.24684995412826538 accuracy:94.87\n",
      "Epoch 1 batch 400 loss:0.14273887872695923 accuracy:95.085\n",
      "Epoch 1 batch 600 loss:0.0733654797077179 accuracy:95.355\n",
      "Epoch 2 batch 200 loss:0.08371470123529434 accuracy:96.515\n",
      "Epoch 2 batch 400 loss:0.06228962913155556 accuracy:96.6125\n",
      "Epoch 2 batch 600 loss:0.06475143879652023 accuracy:96.705\n",
      "Epoch 3 batch 200 loss:0.117899090051651 accuracy:97.65\n",
      "Epoch 3 batch 400 loss:0.05712112784385681 accuracy:97.4775\n",
      "Epoch 3 batch 600 loss:0.031934332102537155 accuracy:97.48833333333333\n",
      "Epoch 4 batch 200 loss:0.10764962434768677 accuracy:98.09\n",
      "Epoch 4 batch 400 loss:0.04543372616171837 accuracy:97.97\n",
      "Epoch 4 batch 600 loss:0.05657264590263367 accuracy:97.99\n",
      "Epoch 5 batch 200 loss:0.007679496891796589 accuracy:98.39\n",
      "Epoch 5 batch 400 loss:0.03771347552537918 accuracy:98.4975\n",
      "Epoch 5 batch 600 loss:0.059891484677791595 accuracy:98.38666666666667\n",
      "Epoch 6 batch 200 loss:0.030504880473017693 accuracy:98.86\n",
      "Epoch 6 batch 400 loss:0.05925914645195007 accuracy:98.69\n",
      "Epoch 6 batch 600 loss:0.08691195398569107 accuracy:98.645\n",
      "Epoch 7 batch 200 loss:0.07339904457330704 accuracy:99.145\n",
      "Epoch 7 batch 400 loss:0.07911327481269836 accuracy:99.0\n",
      "Epoch 7 batch 600 loss:0.04425487667322159 accuracy:98.94833333333334\n",
      "Epoch 8 batch 200 loss:0.006124875042587519 accuracy:99.23\n",
      "Epoch 8 batch 400 loss:0.004850596655160189 accuracy:99.14\n",
      "Epoch 8 batch 600 loss:0.07259717583656311 accuracy:99.08166666666666\n",
      "Epoch 9 batch 200 loss:0.005029352847486734 accuracy:99.435\n",
      "Epoch 9 batch 400 loss:0.015147855505347252 accuracy:99.31\n",
      "Epoch 9 batch 600 loss:0.02176786959171295 accuracy:99.28833333333333\n",
      "Duration:2.0824400067329405 mins\n"
     ]
    }
   ],
   "source": [
    "import time\n",
    "\n",
    "start_time = time.time()\n",
    "\n",
    "epochs = 10\n",
    "\n",
    "train_losses = []\n",
    "test_losses = []\n",
    "train_correct = []\n",
    "test_correct = []\n",
    "\n",
    "for i in range(epochs):\n",
    "    trn_corr = 0\n",
    "    tst_corr = 0\n",
    "    \n",
    "    for b,(X_train,y_train) in enumerate(train_loader):\n",
    "        \n",
    "        b+=1\n",
    "        y_pred = model(X_train.view(100,-1))\n",
    "        loss = criterion(y_pred,y_train)\n",
    "        \n",
    "        predicted = torch.max(y_pred.data,1)[1]\n",
    "        batch_corr = (predicted == y_train).sum()\n",
    "        trn_corr+=batch_corr\n",
    "        \n",
    "        optimizer.zero_grad()\n",
    "        loss.backward()\n",
    "        optimizer.step()\n",
    "        \n",
    "        if b%200==0:\n",
    "            acc = trn_corr.item()*100/(100*b)\n",
    "            print(f'Epoch {i} batch {b} loss:{loss.item()} accuracy:{acc}')\n",
    "        \n",
    "        \n",
    "    train_losses.append(loss.item())\n",
    "    train_correct.append(trn_corr)\n",
    "    \n",
    "    with torch.no_grad():\n",
    "        \n",
    "        for b,(X_test,y_test) in enumerate(test_loader):\n",
    "            \n",
    "            y_val = model(X_test.view(500,-1))\n",
    "            \n",
    "            predicted = torch.max(y_val.data,1)[1]\n",
    "            tst_corr +=(predicted==y_test).sum()\n",
    "            \n",
    "    loss = criterion(y_val,y_test)\n",
    "    test_losses.append(loss.item())\n",
    "    test_correct.append(tst_corr)\n",
    "\n",
    "total_time = time.time() - start_time\n",
    "print(f'Duration:{total_time/60} mins')"
   ]
  },
  {
   "cell_type": "code",
   "execution_count": 27,
   "id": "30bc39fe",
   "metadata": {},
   "outputs": [
    {
     "name": "stdout",
     "output_type": "stream",
     "text": [
      "0.13734400272369385 0.2956961393356323\n",
      "0.0733654797077179 0.21293485164642334\n",
      "0.06475143879652023 0.18322968482971191\n",
      "0.031934332102537155 0.15632790327072144\n",
      "0.05657264590263367 0.15077641606330872\n",
      "0.059891484677791595 0.1473947912454605\n",
      "0.08691195398569107 0.12795260548591614\n",
      "0.04425487667322159 0.14795035123825073\n",
      "0.07259717583656311 0.1883280724287033\n",
      "0.02176786959171295 0.1497606784105301\n"
     ]
    }
   ],
   "source": [
    "for i in zip(train_losses,test_losses):\n",
    "    print(i[0],i[1])"
   ]
  },
  {
   "cell_type": "code",
   "execution_count": 28,
   "id": "b6344f26",
   "metadata": {},
   "outputs": [
    {
     "data": {
      "text/plain": [
       "<matplotlib.legend.Legend at 0x2459e10c8e0>"
      ]
     },
     "execution_count": 28,
     "metadata": {},
     "output_type": "execute_result"
    },
    {
     "data": {
      "image/png": "[encoded data removed]",
      "text/plain": [
       "<Figure size 640x480 with 1 Axes>"
      ]
     },
     "metadata": {},
     "output_type": "display_data"
    }
   ],
   "source": [
    "plt.plot(train_losses,label='Training Loss')\n",
    "plt.plot(test_losses,label='Testing Loss')\n",
    "plt.legend()"
   ]
  },
  {
   "cell_type": "code",
   "execution_count": null,
   "id": "d2387ab5",
   "metadata": {},
   "outputs": [],
   "source": []
  },
  {
   "cell_type": "code",
   "execution_count": 29,
   "id": "1da3d736",
   "metadata": {},
   "outputs": [],
   "source": [
    "train_acc = [t/600 for t in train_correct]\n",
    "test_acc = [t/100 for t in test_correct]"
   ]
  },
  {
   "cell_type": "code",
   "execution_count": 30,
   "id": "8190f260",
   "metadata": {},
   "outputs": [
    {
     "data": {
      "text/plain": [
       "<matplotlib.legend.Legend at 0x2459dd9c2b0>"
      ]
     },
     "execution_count": 30,
     "metadata": {},
     "output_type": "execute_result"
    },
    {
     "data": {
      "image/png": "[encoded data removed]",
      "text/plain": [
       "<Figure size 640x480 with 1 Axes>"
      ]
     },
     "metadata": {},
     "output_type": "display_data"
    }
   ],
   "source": [
    "plt.plot(train_acc,label='Train_acc')\n",
    "plt.plot(test_acc,label='Test_acc')\n",
    "plt.legend()"
   ]
  },
  {
   "cell_type": "code",
   "execution_count": 31,
   "id": "adf22ebb",
   "metadata": {},
   "outputs": [],
   "source": [
    "test_load_all = DataLoader(test_data,batch_size=10000,shuffle=False)"
   ]
  },
  {
   "cell_type": "code",
   "execution_count": 32,
   "id": "c48b52b9",
   "metadata": {},
   "outputs": [],
   "source": [
    "with torch.no_grad():\n",
    "    correct=0\n",
    "    for X_test,y_test in test_load_all:\n",
    "        y_val = model(X_test.view(len(X_test),-1))\n",
    "        predicted = torch.max(y_val,1)[1]\n",
    "        correct += (predicted==y_test).sum()"
   ]
  },
  {
   "cell_type": "code",
   "execution_count": 33,
   "id": "e502253b",
   "metadata": {},
   "outputs": [
    {
     "data": {
      "text/plain": [
       "97.76"
      ]
     },
     "execution_count": 33,
     "metadata": {},
     "output_type": "execute_result"
    }
   ],
   "source": [
    "100*correct.item()/len(test_data)"
   ]
  },
  {
   "cell_type": "code",
   "execution_count": 34,
   "id": "fe8c1c79",
   "metadata": {},
   "outputs": [
    {
     "data": {
      "text/plain": [
       "array([[ 972,    0,    4,    1,    1,    2,    5,    3,    4,    3],\n",
       "       [   0, 1123,    3,    0,    0,    0,    3,    7,    0,    2],\n",
       "       [   1,    3, 1004,    3,    1,    0,    1,    8,    3,    0],\n",
       "       [   3,    2,    4,  985,    0,   11,    1,    1,    3,    1],\n",
       "       [   0,    0,    2,    0,  966,    3,    1,    2,    2,   11],\n",
       "       [   0,    1,    0,    8,    0,  864,    3,    0,    4,    3],\n",
       "       [   1,    2,    2,    0,    5,    2,  943,    1,    1,    0],\n",
       "       [   0,    0,    3,    4,    1,    2,    0,  983,    2,    0],\n",
       "       [   2,    4,   10,    3,    0,    6,    1,    4,  950,    3],\n",
       "       [   1,    0,    0,    6,    8,    2,    0,   19,    5,  986]],\n",
       "      dtype=int64)"
      ]
     },
     "execution_count": 34,
     "metadata": {},
     "output_type": "execute_result"
    }
   ],
   "source": [
    "confusion_matrix(predicted.view(-1),y_test.view(-1))"
   ]
  },
  {
   "cell_type": "code",
   "execution_count": null,
   "id": "2c88ad47",
   "metadata": {},
   "outputs": [],
   "source": []
  },
  {
   "cell_type": "code",
   "execution_count": null,
   "id": "ce72ec95",
   "metadata": {},
   "outputs": [],
   "source": []
  },
  {
   "cell_type": "code",
   "execution_count": null,
   "id": "63ed5fdf",
   "metadata": {},
   "outputs": [],
   "source": []
  }
 ],
 "metadata": {
  "kernelspec": {
   "display_name": "Python 3 (ipykernel)",
   "language": "python",
   "name": "python3"
  },
  "language_info": {
   "codemirror_mode": {
    "name": "ipython",
    "version": 3
   },
   "file_extension": ".py",
   "mimetype": "text/x-python",
   "name": "python",
   "nbconvert_exporter": "python",
   "pygments_lexer": "ipython3",
   "version": "3.9.12"
  }
 },
 "nbformat": 4,
 "nbformat_minor": 5
}
