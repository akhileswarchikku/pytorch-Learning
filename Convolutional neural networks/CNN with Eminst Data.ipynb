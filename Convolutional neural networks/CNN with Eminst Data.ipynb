{
 "cells": [
  {
   "cell_type": "code",
   "execution_count": 1,
   "id": "c2f0d8e3",
   "metadata": {},
   "outputs": [
    {
     "name": "stdout",
     "output_type": "stream",
     "text": [
      "CPU times: total: 2.86 s\n",
      "Wall time: 3.21 s\n"
     ]
    }
   ],
   "source": [
    "%%time\n",
    "import torch\n",
    "import torch.nn as nn\n",
    "import torch.nn.functional as F\n",
    "from torch.utils.data import DataLoader\n",
    "from torchvision import datasets,transforms\n",
    "from torchvision.utils import make_grid\n",
    "\n",
    "import numpy as np\n",
    "import pandas as pd\n",
    "from sklearn.metrics import confusion_matrix\n",
    "import matplotlib.pyplot as plt\n",
    "# torch.set_default_tensor_type('torch.cuda.FloatTensor')\n",
    "%matplotlib inline"
   ]
  },
  {
   "cell_type": "code",
   "execution_count": 2,
   "id": "c00bf80f",
   "metadata": {},
   "outputs": [],
   "source": [
    "transform = transforms.ToTensor()"
   ]
  },
  {
   "cell_type": "code",
   "execution_count": 3,
   "id": "d9768d81",
   "metadata": {},
   "outputs": [],
   "source": [
    "train_data = datasets.MNIST(root=r\"C:\\Users\\akhil\\Downloads\\data\",train=True,download=True,transform = transform)"
   ]
  },
  {
   "cell_type": "code",
   "execution_count": 4,
   "id": "3ce04d46",
   "metadata": {},
   "outputs": [],
   "source": [
    "test_data = datasets.MNIST(root=r\"C:\\Users\\akhil\\Downloads\\data\",train=False,download=True,transform = transform)"
   ]
  },
  {
   "cell_type": "code",
   "execution_count": 5,
   "id": "f676fcdf",
   "metadata": {},
   "outputs": [
    {
     "data": {
      "text/plain": [
       "Dataset MNIST\n",
       "    Number of datapoints: 60000\n",
       "    Root location: C:\\Users\\akhil\\Downloads\\data\n",
       "    Split: Train\n",
       "    StandardTransform\n",
       "Transform: ToTensor()"
      ]
     },
     "execution_count": 5,
     "metadata": {},
     "output_type": "execute_result"
    }
   ],
   "source": [
    "train_data"
   ]
  },
  {
   "cell_type": "code",
   "execution_count": 6,
   "id": "9a097888",
   "metadata": {},
   "outputs": [
    {
     "data": {
      "text/plain": [
       "Dataset MNIST\n",
       "    Number of datapoints: 10000\n",
       "    Root location: C:\\Users\\akhil\\Downloads\\data\n",
       "    Split: Test\n",
       "    StandardTransform\n",
       "Transform: ToTensor()"
      ]
     },
     "execution_count": 6,
     "metadata": {},
     "output_type": "execute_result"
    }
   ],
   "source": [
    "test_data"
   ]
  },
  {
   "cell_type": "code",
   "execution_count": 7,
   "id": "06741685",
   "metadata": {},
   "outputs": [],
   "source": [
    "train_loader = DataLoader(train_data,batch_size=10,shuffle=True)\n",
    "test_loader = DataLoader(test_data,batch_size=10,shuffle=False)"
   ]
  },
  {
   "cell_type": "code",
   "execution_count": 8,
   "id": "002c3f6b",
   "metadata": {},
   "outputs": [],
   "source": [
    "conv1 = nn.Conv2d(in_channels=1,out_channels=6,kernel_size=3,stride=1)\n",
    "conv2 = nn.Conv2d(in_channels=6,out_channels=16,kernel_size=3,stride=1)\n"
   ]
  },
  {
   "cell_type": "code",
   "execution_count": 9,
   "id": "c7f68718",
   "metadata": {},
   "outputs": [],
   "source": [
    "for i,(X_train,y_train) in enumerate(train_data):\n",
    "    break"
   ]
  },
  {
   "cell_type": "code",
   "execution_count": 10,
   "id": "b7e75768",
   "metadata": {},
   "outputs": [
    {
     "data": {
      "text/plain": [
       "torch.Size([1, 1, 28, 28])"
      ]
     },
     "execution_count": 10,
     "metadata": {},
     "output_type": "execute_result"
    }
   ],
   "source": [
    "x = X_train.view(1,1,28,28)\n",
    "x.shape"
   ]
  },
  {
   "cell_type": "code",
   "execution_count": 11,
   "id": "701ea4c8",
   "metadata": {},
   "outputs": [],
   "source": [
    "x = F.relu(conv1(x))"
   ]
  },
  {
   "cell_type": "code",
   "execution_count": 12,
   "id": "adfef06e",
   "metadata": {},
   "outputs": [
    {
     "data": {
      "text/plain": [
       "torch.Size([1, 6, 26, 26])"
      ]
     },
     "execution_count": 12,
     "metadata": {},
     "output_type": "execute_result"
    }
   ],
   "source": [
    "x.shape"
   ]
  },
  {
   "cell_type": "code",
   "execution_count": 13,
   "id": "1afc0789",
   "metadata": {},
   "outputs": [],
   "source": [
    "x = F.max_pool2d(x,2,2)"
   ]
  },
  {
   "cell_type": "code",
   "execution_count": 14,
   "id": "8036eb04",
   "metadata": {},
   "outputs": [
    {
     "data": {
      "text/plain": [
       "torch.Size([1, 16, 11, 11])"
      ]
     },
     "execution_count": 14,
     "metadata": {},
     "output_type": "execute_result"
    }
   ],
   "source": [
    "x = F.relu(conv2(x))\n",
    "x.shape"
   ]
  },
  {
   "cell_type": "code",
   "execution_count": 15,
   "id": "a2bceeba",
   "metadata": {},
   "outputs": [],
   "source": [
    "class Convolutional_Network(nn.Module):\n",
    "    \n",
    "    def __init__(self):\n",
    "        super().__init__()\n",
    "        self.conv1 = nn.Conv2d(1,6,3,1)\n",
    "        self.conv2 = nn.Conv2d(6,16,3,1)\n",
    "        self.fc1 = nn.Linear(5*5*16,120)\n",
    "        self.fc2 = nn.Linear(120,84)\n",
    "        self.fc3 = nn.Linear(84,10)\n",
    "    \n",
    "    def forward(self,X):\n",
    "        X = F.relu(self.conv1(X))\n",
    "        X = F.max_pool2d(X,2,2)\n",
    "        X = F.relu(self.conv2(X))\n",
    "        X = F.max_pool2d(X,2,2)\n",
    "        X = X.view(-1,16*5*5)\n",
    "        X = F.relu(self.fc1(X))\n",
    "        X = F.relu(self.fc2(X))\n",
    "        X = self.fc3(X)\n",
    "        return F.log_softmax(X,dim=1)"
   ]
  },
  {
   "cell_type": "code",
   "execution_count": 16,
   "id": "b02f4d90",
   "metadata": {},
   "outputs": [
    {
     "data": {
      "text/plain": [
       "Convolutional_Network(\n",
       "  (conv1): Conv2d(1, 6, kernel_size=(3, 3), stride=(1, 1))\n",
       "  (conv2): Conv2d(6, 16, kernel_size=(3, 3), stride=(1, 1))\n",
       "  (fc1): Linear(in_features=400, out_features=120, bias=True)\n",
       "  (fc2): Linear(in_features=120, out_features=84, bias=True)\n",
       "  (fc3): Linear(in_features=84, out_features=10, bias=True)\n",
       ")"
      ]
     },
     "execution_count": 16,
     "metadata": {},
     "output_type": "execute_result"
    }
   ],
   "source": [
    "model = Convolutional_Network()\n",
    "model\n",
    "torch.manual_seed(42)\n",
    "PATH = \"model.pt\"\n",
    "\n",
    "# Save\n",
    "torch.save(model.state_dict(), PATH)\n",
    "\n",
    "# Load\n",
    "device = torch.device('cuda')\n",
    "model = Convolutional_Network()\n",
    "model.load_state_dict(torch.load(PATH))\n",
    "model.to(device)\n",
    "model"
   ]
  },
  {
   "cell_type": "code",
   "execution_count": 17,
   "id": "f616b263",
   "metadata": {},
   "outputs": [
    {
     "name": "stdout",
     "output_type": "stream",
     "text": [
      "54\n",
      "6\n",
      "864\n",
      "16\n",
      "48000\n",
      "120\n",
      "10080\n",
      "84\n",
      "840\n",
      "10\n"
     ]
    }
   ],
   "source": [
    "for param in model.parameters():\n",
    "    print(param.numel())"
   ]
  },
  {
   "cell_type": "code",
   "execution_count": 18,
   "id": "fb52d731",
   "metadata": {},
   "outputs": [],
   "source": [
    "criterion = nn.CrossEntropyLoss()\n",
    "optimizer = torch.optim.Adam(model.parameters(),lr = 0.001)\n"
   ]
  },
  {
   "cell_type": "code",
   "execution_count": 19,
   "id": "8a99522b",
   "metadata": {},
   "outputs": [
    {
     "name": "stdout",
     "output_type": "stream",
     "text": [
      "Epoch: 0 Batch: 600 Loss: 0.04569999501109123\n",
      "Epoch: 0 Batch: 1200 Loss: 0.12213385105133057\n",
      "Epoch: 0 Batch: 1800 Loss: 0.43774667382240295\n",
      "Epoch: 0 Batch: 2400 Loss: 0.02973116934299469\n",
      "Epoch: 0 Batch: 3000 Loss: 0.014215173199772835\n",
      "Epoch: 0 Batch: 3600 Loss: 0.002578600775450468\n",
      "Epoch: 0 Batch: 4200 Loss: 0.7643004655838013\n",
      "Epoch: 0 Batch: 4800 Loss: 0.02339652180671692\n",
      "Epoch: 0 Batch: 5400 Loss: 0.013595720753073692\n",
      "Epoch: 0 Batch: 6000 Loss: 0.0407630018889904\n",
      "Epoch: 1 Batch: 600 Loss: 0.0036060456186532974\n",
      "Epoch: 1 Batch: 1200 Loss: 0.14163783192634583\n",
      "Epoch: 1 Batch: 1800 Loss: 0.0007603481644764543\n",
      "Epoch: 1 Batch: 2400 Loss: 0.014107969589531422\n",
      "Epoch: 1 Batch: 3000 Loss: 0.1870981752872467\n",
      "Epoch: 1 Batch: 3600 Loss: 0.00019010524556506425\n",
      "Epoch: 1 Batch: 4200 Loss: 3.58924335159827e-05\n",
      "Epoch: 1 Batch: 4800 Loss: 0.000810155353974551\n",
      "Epoch: 1 Batch: 5400 Loss: 0.0010506249964237213\n",
      "Epoch: 1 Batch: 6000 Loss: 0.30357858538627625\n",
      "Epoch: 2 Batch: 600 Loss: 0.006705217994749546\n",
      "Epoch: 2 Batch: 1200 Loss: 0.0030664317309856415\n",
      "Epoch: 2 Batch: 1800 Loss: 0.00040617078775539994\n",
      "Epoch: 2 Batch: 2400 Loss: 0.00095319002866745\n",
      "Epoch: 2 Batch: 3000 Loss: 0.27999481558799744\n",
      "Epoch: 2 Batch: 3600 Loss: 0.09198492765426636\n",
      "Epoch: 2 Batch: 4200 Loss: 0.03572740778326988\n",
      "Epoch: 2 Batch: 4800 Loss: 0.0004742032033391297\n",
      "Epoch: 2 Batch: 5400 Loss: 0.0019153723260387778\n",
      "Epoch: 2 Batch: 6000 Loss: 0.0005301624187268317\n",
      "Epoch: 3 Batch: 600 Loss: 0.0007124332478269935\n",
      "Epoch: 3 Batch: 1200 Loss: 0.0007081867079250515\n",
      "Epoch: 3 Batch: 1800 Loss: 0.0034177955240011215\n",
      "Epoch: 3 Batch: 2400 Loss: 0.0002571921213530004\n",
      "Epoch: 3 Batch: 3000 Loss: 0.1472007930278778\n",
      "Epoch: 3 Batch: 3600 Loss: 0.0059838322922587395\n",
      "Epoch: 3 Batch: 4200 Loss: 8.816245826892555e-05\n",
      "Epoch: 3 Batch: 4800 Loss: 0.0063837068155407906\n",
      "Epoch: 3 Batch: 5400 Loss: 0.0006585051887668669\n",
      "Epoch: 3 Batch: 6000 Loss: 0.005569834262132645\n",
      "Epoch: 4 Batch: 600 Loss: 0.0023089959286153316\n",
      "Epoch: 4 Batch: 1200 Loss: 0.06781353056430817\n",
      "Epoch: 4 Batch: 1800 Loss: 7.319303222175222e-06\n",
      "Epoch: 4 Batch: 2400 Loss: 0.001270890235900879\n",
      "Epoch: 4 Batch: 3000 Loss: 0.0016902597853913903\n",
      "Epoch: 4 Batch: 3600 Loss: 0.0007103785173967481\n",
      "Epoch: 4 Batch: 4200 Loss: 0.0012133782729506493\n",
      "Epoch: 4 Batch: 4800 Loss: 0.16743049025535583\n",
      "Epoch: 4 Batch: 5400 Loss: 0.0010263205040246248\n",
      "Epoch: 4 Batch: 6000 Loss: 0.001215755008161068\n",
      "Training time : 4.541608039538065 Minutes\n"
     ]
    }
   ],
   "source": [
    "import time \n",
    "start_time = time.time()\n",
    "\n",
    "epochs = 5\n",
    "train_losses = list()\n",
    "test_losses = list()\n",
    "\n",
    "train_correct = list()\n",
    "test_correct = list()\n",
    "\n",
    "for i in range(epochs):\n",
    "    trn_corr = 0\n",
    "    tst_corr = 0\n",
    "    \n",
    "    for b,(X_train,y_train) in enumerate(train_loader):\n",
    "        b+=1\n",
    "        \n",
    "        y_pred = model(X_train.to(device))\n",
    "        loss = criterion(y_pred.to(device),y_train.to(device))\n",
    "        \n",
    "        predicted = torch.max(y_pred.data,1)[1]\n",
    "        batch_corr = (predicted.to(device)==y_train.to(device)).sum()\n",
    "        trn_corr +=batch_corr \n",
    "        \n",
    "        optimizer.zero_grad()\n",
    "        loss.backward()\n",
    "        optimizer.step()\n",
    "        \n",
    "        if b%600 == 0:\n",
    "            print(f\"Epoch: {i} Batch: {b} Loss: {loss.item()}\")\n",
    "    train_losses.append(loss.item())\n",
    "    train_correct.append(trn_corr)\n",
    "    \n",
    "    with torch.no_grad():\n",
    "        for b,(X_test,y_test) in enumerate(test_loader):\n",
    "            y_val = model(X_test.to(device))\n",
    "            predicted = torch.max(y_val.data,1)[1]\n",
    "            tst_corr+=(predicted.to(device)==y_test.to(device)).sum()\n",
    "            \n",
    "    loss = criterion(y_val.to(device),y_test.to(device))\n",
    "    test_losses.append(loss.item())\n",
    "    test_correct.append(tst_corr)\n",
    "        \n",
    "        \n",
    "        \n",
    "current_time = time.time()\n",
    "total = current_time - start_time\n",
    "\n",
    "print(f\"Training time : {total/60} Minutes\")"
   ]
  },
  {
   "cell_type": "code",
   "execution_count": 20,
   "id": "866a49a4",
   "metadata": {},
   "outputs": [
    {
     "data": {
      "text/plain": [
       "<matplotlib.legend.Legend at 0x2506221a3d0>"
      ]
     },
     "execution_count": 20,
     "metadata": {},
     "output_type": "execute_result"
    },
    {
     "data": {
      "image/png": "[encoded data removed]",
      "text/plain": [
       "<Figure size 640x480 with 1 Axes>"
      ]
     },
     "metadata": {},
     "output_type": "display_data"
    }
   ],
   "source": [
    "plt.plot(train_losses,label='train_loss')\n",
    "plt.plot(test_losses,label='validation_loss')\n",
    "plt.title('Loss at epochs')\n",
    "plt.legend()"
   ]
  },
  {
   "cell_type": "code",
   "execution_count": 21,
   "id": "78530b7d",
   "metadata": {},
   "outputs": [
    {
     "data": {
      "image/png": "[encoded data removed]",
      "text/plain": [
       "<Figure size 640x480 with 1 Axes>"
      ]
     },
     "metadata": {},
     "output_type": "display_data"
    }
   ],
   "source": [
    "plt.plot([t.to('cpu')/600 for t in train_correct],label='Training_accuracy')\n",
    "plt.plot([t.to('cpu')/100 for t in test_correct],label='validation_accuracy')\n",
    "plt.title('Accuracy at the end of each epoch')\n",
    "plt.legend();"
   ]
  },
  {
   "cell_type": "code",
   "execution_count": 22,
   "id": "0c474863",
   "metadata": {},
   "outputs": [],
   "source": [
    "test_load_all = DataLoader(test_data,batch_size=10000,shuffle=False)"
   ]
  },
  {
   "cell_type": "code",
   "execution_count": 23,
   "id": "6c48fe03",
   "metadata": {},
   "outputs": [],
   "source": [
    "with torch.no_grad():\n",
    "    correct = 0\n",
    "    for X_test,y_test in test_load_all:\n",
    "        y_val = model(X_test.to(device))\n",
    "        predicted = torch.max(y_val.to(device),1)[1]\n",
    "        correct+= (predicted.to(device) == y_test.to(device)).sum()"
   ]
  },
  {
   "cell_type": "code",
   "execution_count": 24,
   "id": "e0694f3a",
   "metadata": {},
   "outputs": [
    {
     "data": {
      "text/plain": [
       "0.9848"
      ]
     },
     "execution_count": 24,
     "metadata": {},
     "output_type": "execute_result"
    }
   ],
   "source": [
    "correct.item()/len(test_data)"
   ]
  },
  {
   "cell_type": "code",
   "execution_count": 22,
   "id": "1d8e2262",
   "metadata": {},
   "outputs": [],
   "source": [
    "import requests"
   ]
  },
  {
   "cell_type": "code",
   "execution_count": null,
   "id": "dce0405a",
   "metadata": {},
   "outputs": [],
   "source": []
  }
 ],
 "metadata": {
  "kernelspec": {
   "display_name": "Python 3 (ipykernel)",
   "language": "python",
   "name": "python3"
  },
  "language_info": {
   "codemirror_mode": {
    "name": "ipython",
    "version": 3
   },
   "file_extension": ".py",
   "mimetype": "text/x-python",
   "name": "python",
   "nbconvert_exporter": "python",
   "pygments_lexer": "ipython3",
   "version": "3.9.12"
  }
 },
 "nbformat": 4,
 "nbformat_minor": 5
}
